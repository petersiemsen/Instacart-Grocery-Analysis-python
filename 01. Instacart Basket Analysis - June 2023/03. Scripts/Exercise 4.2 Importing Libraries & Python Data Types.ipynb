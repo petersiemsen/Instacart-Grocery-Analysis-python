{
 "cells": [
  {
   "cell_type": "markdown",
   "id": "f70dec56",
   "metadata": {},
   "source": [
    "# 01. Importing Libraries"
   ]
  },
  {
   "cell_type": "code",
   "execution_count": 1,
   "id": "4c1ec410",
   "metadata": {},
   "outputs": [],
   "source": [
    "# Importing Libraries to use for this exercise\n",
    "import pandas as pd\n",
    "import numpy as np\n",
    "import os"
   ]
  },
  {
   "cell_type": "markdown",
   "id": "c2f3f7d1",
   "metadata": {},
   "source": [
    "# 02. Data Types"
   ]
  },
  {
   "cell_type": "code",
   "execution_count": 10,
   "id": "ead47be9",
   "metadata": {},
   "outputs": [
    {
     "name": "stdout",
     "output_type": "stream",
     "text": [
      "100\n",
      "100\n",
      "100\n"
     ]
    }
   ],
   "source": [
    "# Question 7\n",
    "\n",
    "x = 99\n",
    "y = 25\n",
    "z = 75 \n",
    "\n",
    "print(x + 1)\n",
    "print(125 - y)\n",
    "print(y + z)"
   ]
  },
  {
   "cell_type": "code",
   "execution_count": 11,
   "id": "e33fcfcd",
   "metadata": {},
   "outputs": [
    {
     "name": "stdout",
     "output_type": "stream",
     "text": [
      "0.4714714714714715\n"
     ]
    }
   ],
   "source": [
    "# Question 8\n",
    "\n",
    "a = 3.14\n",
    "b = 6.66\n",
    "\n",
    "print(a / b)"
   ]
  },
  {
   "cell_type": "code",
   "execution_count": 14,
   "id": "e2f88d01",
   "metadata": {},
   "outputs": [
    {
     "name": "stdout",
     "output_type": "stream",
     "text": [
      "applesauce\n",
      "Hello World.\n",
      "My name is Peter and I enjoy Python! Data analysis is pretty awesome.\n"
     ]
    }
   ],
   "source": [
    "# Question 9 and 10\n",
    "\n",
    "c = 'Hello '\n",
    "d = 'World.'\n",
    "e = 'My name is Peter and I enjoy Python! '\n",
    "f = 'Data analysis is pretty awesome.'\n",
    "g = 'apple'\n",
    "h = 'sauce'\n",
    "\n",
    "print(g + h)\n",
    "print(c + d)\n",
    "print(e + f)\n"
   ]
  },
  {
   "cell_type": "code",
   "execution_count": 16,
   "id": "776d2599",
   "metadata": {},
   "outputs": [
    {
     "name": "stdout",
     "output_type": "stream",
     "text": [
      "Chips Chips Chips Chips Chips Chips Chips Chips Chips Chips Chips Chips Chips Chips Chips Chips Chips Chips Chips Chips Chips Chips Chips Chips Chips Chips Chips Chips Chips Chips Chips Chips Chips Chips Chips Chips Chips Chips Chips Chips Chips Chips Chips Chips Chips Chips Chips Chips Chips Chips Chips Chips Chips Chips Chips Chips Chips Chips Chips Chips Chips Chips Chips Chips Chips Chips Chips Chips Chips Chips Chips Chips Chips Chips Chips Chips Chips Chips Chips Chips Chips Chips Chips Chips Chips Chips Chips Chips Chips Chips Chips Chips Chips Chips Chips Chips Chips Chips Chips Chips \n"
     ]
    }
   ],
   "source": [
    "# Bonus\n",
    "\n",
    "i = 'Chips '\n",
    "\n",
    "print(i * 100)"
   ]
  },
  {
   "cell_type": "code",
   "execution_count": null,
   "id": "3c78569e",
   "metadata": {},
   "outputs": [],
   "source": []
  }
 ],
 "metadata": {
  "kernelspec": {
   "display_name": "Python 3 (ipykernel)",
   "language": "python",
   "name": "python3"
  },
  "language_info": {
   "codemirror_mode": {
    "name": "ipython",
    "version": 3
   },
   "file_extension": ".py",
   "mimetype": "text/x-python",
   "name": "python",
   "nbconvert_exporter": "python",
   "pygments_lexer": "ipython3",
   "version": "3.10.9"
  }
 },
 "nbformat": 4,
 "nbformat_minor": 5
}
